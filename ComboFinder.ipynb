{
  "nbformat": 4,
  "nbformat_minor": 0,
  "metadata": {
    "colab": {
      "provenance": [],
      "include_colab_link": true
    },
    "kernelspec": {
      "display_name": "Python 3",
      "language": "python",
      "name": "python3"
    },
    "language_info": {
      "codemirror_mode": {
        "name": "ipython",
        "version": 3
      },
      "file_extension": ".py",
      "mimetype": "text/x-python",
      "name": "python",
      "nbconvert_exporter": "python",
      "pygments_lexer": "ipython3",
      "version": "3.8.5"
    }
  },
  "cells": [
    {
      "cell_type": "markdown",
      "metadata": {
        "id": "view-in-github",
        "colab_type": "text"
      },
      "source": [
        "<a href=\"https://colab.research.google.com/github/mokshdamalhotra/ComboFinder/blob/main/ComboFinder.ipynb\" target=\"_parent\"><img src=\"https://colab.research.google.com/assets/colab-badge.svg\" alt=\"Open In Colab\"/></a>"
      ]
    },
    {
      "cell_type": "markdown",
      "metadata": {
        "id": "7nQSRI4Dim1Y"
      },
      "source": [
        "  ---\n",
        "# **ComboFinder**\n",
        "---\n",
        "####**Problem Statement:**\n",
        "Find all the list of products whose sum-of-price is between 290 and 310.\n",
        "\n",
        "ProductList = {p1:10, p2:15, p3:20, p4:25, p5:30, p6:35, p7:50}\n",
        "\n",
        "---"
      ]
    },
    {
      "cell_type": "code",
      "metadata": {
        "id": "NHB2KMhZim1o",
        "colab": {
          "base_uri": "https://localhost:8080/"
        },
        "outputId": "fb4b1804-b9ff-44ba-abfc-0a0c119109f7"
      },
      "source": [
        "import random as r\n",
        "ProductList = {'p1':10, 'p2':15, 'p3':20, 'p4':25, 'p5':30, 'p6':35, 'p7':50,\n",
        "               'p8':40, 'p9':55, 'p10':60, 'p11':65, 'p12':75, 'p13':70,\n",
        "               'p14':45}\n",
        "LB          = 290\n",
        "UB          = 310\n",
        "ResultList  = set()\n",
        "Iterations  = 1000\n",
        "SetSize = r.randint(2, len(ProductList)-1)\n",
        "print(\"Number of Product: \", SetSize)\n",
        "\n",
        "ComboList = r.sample(list(ProductList.keys()),SetSize)\n",
        "print(\"Product List     : \", ComboList)\n",
        "\n",
        "ComboSum = sum([ ProductList[i] for i in ComboList])\n",
        "print(\"Sum of Product   : \", ComboSum)\n",
        "ResultList  = set()\n",
        "for i in range(Iterations):\n",
        "    SetSize = r.randint(2, len(ProductList)-1)\n",
        "    ComboList = r.sample(list(ProductList.keys()),SetSize)\n",
        "    ComboSum = sum([ ProductList[i] for i in ComboList])\n",
        "    if ComboSum>= LB and ComboSum<= UB:\n",
        "      ResultList.add(tuple(ComboList))\n",
        "print(\"Done\")\n",
        "\n",
        "for r in ResultList:\n",
        "\tprint (r)\n",
        "print (\"\\nTotal Sets: \", len(ResultList), \"\\n\")"
      ],
      "execution_count": null,
      "outputs": [
        {
          "output_type": "stream",
          "name": "stdout",
          "text": [
            "Number of Product:  10\n",
            "Product List     :  ['p7', 'p14', 'p4', 'p8', 'p6', 'p10', 'p5', 'p11', 'p3', 'p2']\n",
            "Sum of Product   :  385\n",
            "Done\n",
            "('p4', 'p8', 'p10', 'p12', 'p1', 'p13', 'p5')\n",
            "('p6', 'p11', 'p1', 'p7', 'p14', 'p4', 'p10')\n",
            "('p4', 'p10', 'p2', 'p11', 'p8', 'p9', 'p6')\n",
            "('p11', 'p10', 'p7', 'p14', 'p4', 'p5', 'p3')\n",
            "('p1', 'p7', 'p8', 'p12', 'p11', 'p9')\n",
            "('p10', 'p7', 'p9', 'p14', 'p3', 'p12')\n",
            "('p2', 'p13', 'p11', 'p10', 'p8', 'p5', 'p4')\n",
            "('p6', 'p9', 'p11', 'p2', 'p10', 'p5', 'p14')\n",
            "('p12', 'p9', 'p7', 'p5', 'p13', 'p4')\n",
            "('p11', 'p6', 'p2', 'p7', 'p14', 'p12', 'p3')\n",
            "('p11', 'p13', 'p1', 'p7', 'p10', 'p3', 'p6')\n",
            "('p4', 'p1', 'p8', 'p14', 'p6', 'p7', 'p5', 'p13')\n",
            "('p12', 'p1', 'p8', 'p2', 'p4', 'p13', 'p14', 'p3')\n",
            "('p4', 'p10', 'p5', 'p7', 'p11', 'p3', 'p9')\n",
            "('p1', 'p10', 'p13', 'p5', 'p6', 'p4', 'p2', 'p7')\n",
            "('p12', 'p13', 'p9', 'p11', 'p8')\n",
            "('p8', 'p10', 'p6', 'p9', 'p4', 'p3', 'p14', 'p1')\n",
            "('p5', 'p14', 'p13', 'p12', 'p10', 'p3')\n",
            "('p1', 'p2', 'p6', 'p11', 'p10', 'p12', 'p7')\n",
            "('p13', 'p10', 'p12', 'p14', 'p4', 'p5')\n",
            "('p9', 'p14', 'p5', 'p3', 'p8', 'p2', 'p6', 'p1', 'p10')\n",
            "('p12', 'p14', 'p7', 'p9', 'p6', 'p2', 'p5')\n",
            "('p11', 'p7', 'p2', 'p12', 'p6', 'p10')\n",
            "('p2', 'p1', 'p3', 'p10', 'p4', 'p12', 'p8', 'p11')\n",
            "('p7', 'p8', 'p4', 'p1', 'p9', 'p2', 'p14', 'p13')\n",
            "('p9', 'p3', 'p2', 'p8', 'p6', 'p4', 'p14', 'p10')\n",
            "('p11', 'p4', 'p3', 'p14', 'p10', 'p8', 'p2', 'p5', 'p1')\n",
            "('p8', 'p5', 'p3', 'p10', 'p4', 'p1', 'p7', 'p2', 'p9')\n",
            "('p13', 'p5', 'p6', 'p4', 'p7', 'p14', 'p8', 'p2')\n",
            "('p8', 'p7', 'p1', 'p14', 'p11', 'p13', 'p5')\n",
            "('p11', 'p14', 'p13', 'p9', 'p10')\n",
            "('p12', 'p1', 'p4', 'p3', 'p14', 'p9', 'p2', 'p10')\n",
            "('p14', 'p7', 'p1', 'p10', 'p12', 'p8', 'p4')\n",
            "('p14', 'p12', 'p10', 'p3', 'p7', 'p8', 'p2')\n",
            "('p5', 'p11', 'p14', 'p8', 'p3', 'p12', 'p6')\n",
            "('p4', 'p8', 'p1', 'p14', 'p11', 'p10', 'p9')\n",
            "('p14', 'p12', 'p11', 'p3', 'p2', 'p5', 'p10')\n",
            "('p8', 'p10', 'p13', 'p1', 'p12', 'p6')\n",
            "('p13', 'p12', 'p9', 'p6', 'p4', 'p14')\n",
            "('p8', 'p5', 'p3', 'p9', 'p13', 'p12')\n",
            "('p2', 'p8', 'p12', 'p9', 'p10', 'p7')\n",
            "('p14', 'p4', 'p10', 'p12', 'p9', 'p8')\n",
            "('p7', 'p1', 'p8', 'p3', 'p14', 'p2', 'p10', 'p9')\n",
            "\n",
            "Total Sets:  43 \n",
            "\n"
          ]
        }
      ]
    }
  ]
}